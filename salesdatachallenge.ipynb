{
 "cells": [
  {
   "cell_type": "markdown",
   "metadata": {},
   "source": [
    "<div align=\"Center\"><h1>Data Manipulation</h1></div>"
   ]
  },
  {
   "cell_type": "markdown",
   "metadata": {},
   "source": [
    "In order to implement the data model previously discussed, and perform visualization to gain insights into this data set, I'm using the Python DataFrame framework to manipulate the data and create necessary calculated measures/dimensions. This method can be applied to a live data connection, so it would work well even if we wanted to analyze data directly from SFDC/Workday/other systems.\n",
    "\n",
    "<b>1. Data Import</b>\n",
    "\n",
    "Below, I will create a data view (reporting_view) by joining the provided Bookings and Roster tables."
   ]
  },
  {
   "cell_type": "code",
   "execution_count": 1,
   "metadata": {
    "collapsed": false
   },
   "outputs": [],
   "source": [
    "import pandas as pd\n",
    "\n",
    "bookings=pd.read_csv('C:/Users/nquan/Google Drive/Dropbox/Jobs/Medallia/Data Challenge/Booked by FY - SFDC.csv')\n",
    "roster=pd.read_csv('C:/Users/nquan/Google Drive/Dropbox/Jobs/Medallia/Data Challenge/Roster.csv', keep_default_na=False)"
   ]
  },
  {
   "cell_type": "markdown",
   "metadata": {},
   "source": [
    "In order to join Bookings and Roster, we need a common primary key. Recognizing that Opportunity Owner is unique and can be used as Bookings' PK, I will generate Employee Key from Employee Full Name, to be used as PK for Roster."
   ]
  },
  {
   "cell_type": "code",
   "execution_count": 2,
   "metadata": {
    "collapsed": false
   },
   "outputs": [],
   "source": [
    "employee_key=pd.DataFrame(roster['Employee Full Name'].str.replace(r' (?![a-zA-Z])',''))\n",
    "employee_key.columns=['Opportunity Owner']\n",
    "roster=pd.concat([roster, employee_key], axis=1)\n",
    "reporting_view=pd.merge(roster, bookings, on=['Opportunity Owner'], how='left')"
   ]
  },
  {
   "cell_type": "markdown",
   "metadata": {},
   "source": [
    "<b>2. Creating the Fiscal Calendar hierarchy</b>\n",
    "\n",
    "Now that we have reporting_view initialized, the next step is to apply the data model for Fiscal Hierarchies. Using business rules provided, Fiscal Calendar table is created with the following attributes:\n",
    "<style type=\"text/css\">\n",
    ".tg  {border-collapse:collapse;border-spacing:0;}\n",
    ".tg td{font-family:Arial, sans-serif;font-size:14px;padding:10px 5px;border-style:solid;border-width:1px;overflow:hidden;word-break:normal;}\n",
    ".tg th{font-family:Arial, sans-serif;font-size:14px;font-weight:normal;padding:10px 5px;border-style:solid;border-width:1px;overflow:hidden;word-break:normal;}\n",
    ".tg .tg-yw4l{vertical-align:top}\n",
    "</style>\n",
    "<table class=\"tg\">\n",
    "  <tr>\n",
    "    <th class=\"tg-yw4l\">Calendar Date</th>\n",
    "    <th class=\"tg-yw4l\">Fiscal Year</th>\n",
    "    <th class=\"tg-yw4l\">Fiscal Quarter</th>\n",
    "    <th class=\"tg-yw4l\">Fiscal Month</th>\n",
    "  </tr>\n",
    "  <tr>\n",
    "    <td class=\"tg-yw4l\"></td>\n",
    "    <td class=\"tg-yw4l\"></td>\n",
    "    <td class=\"tg-yw4l\"></td>\n",
    "    <td class=\"tg-yw4l\"></td>\n",
    "  </tr>\n",
    "</table>\n",
    "\n",
    "This table is then joined with Reporting View to add Fiscal dimensions for Booking Date and Close Date:"
   ]
  },
  {
   "cell_type": "code",
   "execution_count": 3,
   "metadata": {
    "collapsed": false
   },
   "outputs": [],
   "source": [
    "fiscal=pd.read_csv('C:/Users/nquan/Google Drive/Dropbox/Jobs/Medallia/Data Challenge/Fiscal Calendar.csv')\n",
    "\n",
    "fiscal.columns=['Booking Date', 'Booking Fiscal Year', 'Booking Fiscal Quarter', 'Booking Fiscal Month']\n",
    "reporting_view=pd.merge(reporting_view, fiscal, on=['Booking Date'], how='left')\n",
    "\n",
    "fiscal.columns=['Close Date', 'Close Fiscal Year', 'Close Fiscal Quarter', 'Close Fiscal Month']\n",
    "reporting_view=pd.merge(reporting_view, fiscal, on=['Close Date'], how='left')\n",
    "\n",
    "reporting_view=reporting_view.drop_duplicates()"
   ]
  },
  {
   "cell_type": "markdown",
   "metadata": {},
   "source": [
    "<b>3. Calculating measures/dimensions for visual analysis</b>\n",
    "\n",
    "In order to answer the questions posed in this challenge, a number of new attributes need to be calculated. Attainment is measured by Cumulative swNACV over Cumulative Quota. Quota is based on Tenure. Tenure is based on Start and End Date (or current date, which is assumed to be 5/1/2017). The attributes are calculated as follow:"
   ]
  },
  {
   "cell_type": "code",
   "execution_count": 4,
   "metadata": {
    "collapsed": false
   },
   "outputs": [],
   "source": [
    "#Extract a sub-view with core attributes needed for calculations\n",
    "view_extract=reporting_view.groupby(['Employee Full Name', 'Start Date', 'End Date'])['swNACV'].sum().to_frame().reset_index()\n",
    "view_extract.columns=['Employee Full Name', 'Start Date', 'End Date', 'Total swNACV']\n",
    "\n",
    "#Calculate Tenure\n",
    "from datetime import date\n",
    "from dateutil import relativedelta\n",
    "from dateutil import parser\n",
    "\n",
    "tenure=[]\n",
    "startdatelist=list(view_extract['Start Date'])\n",
    "enddatelist=list(view_extract['End Date'])\n",
    "for i in range(0,len(view_extract)):\n",
    "    startdate=parser.parse(startdatelist[i])\n",
    "    if enddatelist[i]=='':\n",
    "        enddate=parser.parse('5/1/2017')\n",
    "    else:\n",
    "        enddate=parser.parse(enddatelist[i])\n",
    "    difference=relativedelta.relativedelta(enddate, startdate)\n",
    "    tenure.append(difference.years*12+difference.months)\n",
    "\n",
    "tenuredf=pd.DataFrame(tenure, columns=['Tenure'], index=view_extract.index)\n",
    "\n",
    "#Calculate Cumulative Quota\n",
    "cumulative_quota=[]\n",
    "for i in range(0,len(view_extract)):\n",
    "    if tenure[i]>5:\n",
    "        cumulative_quota.append((tenure[i]-5)*58333.33)\n",
    "    else:\n",
    "        cumulative_quota.append(0)\n",
    "quotadf=pd.DataFrame(cumulative_quota, columns=['Cumulative Quota'], index=view_extract.index)\n",
    "\n",
    "#Calculate Attainment\n",
    "totalswNACVlist=list(view_extract['Total swNACV'])\n",
    "attainment=[]\n",
    "for i in range(0,len(view_extract)):\n",
    "    if totalswNACVlist[i]!=totalswNACVlist[i]:\n",
    "        attainment.append(0)\n",
    "    else:\n",
    "        if cumulative_quota[i]==0:\n",
    "            attainment.append(1)\n",
    "        else:\n",
    "            attainment.append(totalswNACVlist[i]/cumulative_quota[i])\n",
    "attainmentdf=pd.DataFrame(attainment, columns=['Attainment'], index=view_extract.index)\n",
    "\n",
    "#Add new attributes to reporting_view\n",
    "view_extract=pd.concat([view_extract, tenuredf, quotadf, attainmentdf], axis=1)\n",
    "view_extract=view_extract.drop(['Start Date', 'End Date'], axis=1)\n",
    "reporting_view=pd.merge(reporting_view, view_extract, on=['Employee Full Name'], how='left')"
   ]
  },
  {
   "cell_type": "markdown",
   "metadata": {},
   "source": [
    "<b>4. Data export/Connecting to Tableau</b>\n",
    "\n",
    "reporting_view is now ready for visualization and analysis in Tableau. I will write it to a .csv, then connect it to Tableau to start the visual analysis."
   ]
  },
  {
   "cell_type": "code",
   "execution_count": 5,
   "metadata": {
    "collapsed": false
   },
   "outputs": [],
   "source": [
    "reporting_view.to_csv(path_or_buf='C:/Users/nquan/Google Drive/Dropbox/Jobs/Medallia/Data Challenge/Reporting View.csv', index=False)"
   ]
  }
 ],
 "metadata": {
  "anaconda-cloud": {},
  "kernelspec": {
   "display_name": "Python [default]",
   "language": "python",
   "name": "python3"
  },
  "language_info": {
   "codemirror_mode": {
    "name": "ipython",
    "version": 3
   },
   "file_extension": ".py",
   "mimetype": "text/x-python",
   "name": "python",
   "nbconvert_exporter": "python",
   "pygments_lexer": "ipython3",
   "version": "3.5.2"
  },
  "nbpresent": {
   "slides": {},
   "themes": {
    "default": "9a0f6450-260d-4a7d-910c-adf04abace91",
    "theme": {
     "9a0f6450-260d-4a7d-910c-adf04abace91": {
      "id": "9a0f6450-260d-4a7d-910c-adf04abace91",
      "palette": {
       "19cc588f-0593-49c9-9f4b-e4d7cc113b1c": {
        "id": "19cc588f-0593-49c9-9f4b-e4d7cc113b1c",
        "rgb": [
         252,
         252,
         252
        ]
       },
       "31af15d2-7e15-44c5-ab5e-e04b16a89eff": {
        "id": "31af15d2-7e15-44c5-ab5e-e04b16a89eff",
        "rgb": [
         68,
         68,
         68
        ]
       },
       "50f92c45-a630-455b-aec3-788680ec7410": {
        "id": "50f92c45-a630-455b-aec3-788680ec7410",
        "rgb": [
         155,
         177,
         192
        ]
       },
       "c5cc3653-2ee1-402a-aba2-7caae1da4f6c": {
        "id": "c5cc3653-2ee1-402a-aba2-7caae1da4f6c",
        "rgb": [
         43,
         126,
         184
        ]
       },
       "efa7f048-9acb-414c-8b04-a26811511a21": {
        "id": "efa7f048-9acb-414c-8b04-a26811511a21",
        "rgb": [
         25.118061674008803,
         73.60176211453744,
         107.4819383259912
        ]
       }
      },
      "rules": {
       "blockquote": {
        "color": "50f92c45-a630-455b-aec3-788680ec7410"
       },
       "code": {
        "font-family": "Anonymous Pro"
       },
       "h1": {
        "color": "c5cc3653-2ee1-402a-aba2-7caae1da4f6c",
        "font-family": "Lato",
        "font-size": 8
       },
       "h2": {
        "color": "c5cc3653-2ee1-402a-aba2-7caae1da4f6c",
        "font-family": "Lato",
        "font-size": 6
       },
       "h3": {
        "color": "50f92c45-a630-455b-aec3-788680ec7410",
        "font-family": "Lato",
        "font-size": 5.5
       },
       "h4": {
        "color": "c5cc3653-2ee1-402a-aba2-7caae1da4f6c",
        "font-family": "Lato",
        "font-size": 5
       },
       "h5": {
        "font-family": "Lato"
       },
       "h6": {
        "font-family": "Lato"
       },
       "h7": {
        "font-family": "Lato"
       },
       "pre": {
        "font-family": "Anonymous Pro",
        "font-size": 4
       }
      },
      "text-base": {
       "font-family": "Merriweather",
       "font-size": 4
      }
     },
     "d0b1cb57-d3fe-46d8-a662-c060260392e4": {
      "backgrounds": {
       "dc7afa04-bf90-40b1-82a5-726e3cff5267": {
        "background-color": "31af15d2-7e15-44c5-ab5e-e04b16a89eff",
        "id": "dc7afa04-bf90-40b1-82a5-726e3cff5267"
       }
      },
      "id": "d0b1cb57-d3fe-46d8-a662-c060260392e4",
      "palette": {
       "19cc588f-0593-49c9-9f4b-e4d7cc113b1c": {
        "id": "19cc588f-0593-49c9-9f4b-e4d7cc113b1c",
        "rgb": [
         252,
         252,
         252
        ]
       },
       "31af15d2-7e15-44c5-ab5e-e04b16a89eff": {
        "id": "31af15d2-7e15-44c5-ab5e-e04b16a89eff",
        "rgb": [
         68,
         68,
         68
        ]
       },
       "50f92c45-a630-455b-aec3-788680ec7410": {
        "id": "50f92c45-a630-455b-aec3-788680ec7410",
        "rgb": [
         197,
         226,
         245
        ]
       },
       "c5cc3653-2ee1-402a-aba2-7caae1da4f6c": {
        "id": "c5cc3653-2ee1-402a-aba2-7caae1da4f6c",
        "rgb": [
         43,
         126,
         184
        ]
       },
       "efa7f048-9acb-414c-8b04-a26811511a21": {
        "id": "efa7f048-9acb-414c-8b04-a26811511a21",
        "rgb": [
         25.118061674008803,
         73.60176211453744,
         107.4819383259912
        ]
       }
      },
      "rules": {
       "a": {
        "color": "19cc588f-0593-49c9-9f4b-e4d7cc113b1c"
       },
       "blockquote": {
        "color": "50f92c45-a630-455b-aec3-788680ec7410",
        "font-size": 3
       },
       "code": {
        "font-family": "Anonymous Pro"
       },
       "h1": {
        "color": "19cc588f-0593-49c9-9f4b-e4d7cc113b1c",
        "font-family": "Merriweather",
        "font-size": 8
       },
       "h2": {
        "color": "19cc588f-0593-49c9-9f4b-e4d7cc113b1c",
        "font-family": "Merriweather",
        "font-size": 6
       },
       "h3": {
        "color": "50f92c45-a630-455b-aec3-788680ec7410",
        "font-family": "Lato",
        "font-size": 5.5
       },
       "h4": {
        "color": "c5cc3653-2ee1-402a-aba2-7caae1da4f6c",
        "font-family": "Lato",
        "font-size": 5
       },
       "h5": {
        "font-family": "Lato"
       },
       "h6": {
        "font-family": "Lato"
       },
       "h7": {
        "font-family": "Lato"
       },
       "li": {
        "color": "50f92c45-a630-455b-aec3-788680ec7410",
        "font-size": 3.25
       },
       "pre": {
        "font-family": "Anonymous Pro",
        "font-size": 4
       }
      },
      "text-base": {
       "color": "19cc588f-0593-49c9-9f4b-e4d7cc113b1c",
       "font-family": "Lato",
       "font-size": 4
      }
     }
    }
   }
  }
 },
 "nbformat": 4,
 "nbformat_minor": 1
}
